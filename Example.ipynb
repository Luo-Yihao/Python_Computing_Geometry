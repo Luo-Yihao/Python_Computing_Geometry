{
 "cells": [
  {
   "cell_type": "code",
   "execution_count": 1,
   "metadata": {},
   "outputs": [],
   "source": [
    "import pyvista as pv\n",
    "\n",
    "import random as rd\n",
    "import numpy as np \n",
    "from scipy.sparse import *\n",
    "\n",
    "from matplotlib.colors import ListedColormap\n",
    "\n",
    "import clearDatatool\n",
    "import manifold\n",
    "import topologyProcess\n",
    "import conformalProcess"
   ]
  },
  {
   "cell_type": "markdown",
   "metadata": {},
   "source": [
    "#Topological and conformal translating for 2D closed manifolds"
   ]
  },
  {
   "cell_type": "code",
   "execution_count": 2,
   "metadata": {},
   "outputs": [],
   "source": [
    "# read a mesh from .ply or .obj\n",
    "mesh = pv.read('datasource/kitten.ply')\n",
    "# clean the mesh data to guarantee the regulation of data to construct manifold \n",
    "Points, Faces = clearDatatool.clearMesh(mesh)"
   ]
  },
  {
   "cell_type": "code",
   "execution_count": 3,
   "metadata": {},
   "outputs": [
    {
     "name": "stdout",
     "output_type": "stream",
     "text": [
      "orientated\n",
      "closed manifold without boundary\n",
      "m2 has 0 boundary(ies)\n"
     ]
    }
   ],
   "source": [
    "# construct 2D manifold\n",
    "m2 = manifold.Manifold2D(Points,Faces)\n",
    "\n",
    "# convert a manifold into a chain complex \n",
    "c2 = m2.toChain()\n",
    "\n",
    "# search the boundary of the manifold \n",
    "boundary = m2.boundary()\n",
    "print('m2 has ' + str(len(boundary))+' boundary(ies)')\n",
    "\n"
   ]
  },
  {
   "cell_type": "code",
   "execution_count": 4,
   "metadata": {},
   "outputs": [
    {
     "name": "stdout",
     "output_type": "stream",
     "text": [
      "The fundamental group Pi_1(m2) has 2 bases\n"
     ]
    }
   ],
   "source": [
    "# calculate bases of the fundamental Group for a closed manifold \n",
    "baseloops = topologyProcess.fundamentalGroup(m2)\n",
    "print('The fundamental group Pi_1(m2) has ' + str(len(baseloops))+ ' bases')"
   ]
  },
  {
   "cell_type": "code",
   "execution_count": 5,
   "metadata": {},
   "outputs": [
    {
     "data": {
      "application/vnd.jupyter.widget-view+json": {
       "model_id": "6c347c36bb9442fb8e53a87d017a8e12",
       "version_major": 2,
       "version_minor": 0
      },
      "text/plain": [
       "ViewInteractiveWidget(height=768, layout=Layout(height='auto', width='100%'), width=1024)"
      ]
     },
     "metadata": {},
     "output_type": "display_data"
    }
   ],
   "source": [
    "# visualize the bases of fundamental Group (or 1-dimensional homology group H_1)\n",
    "Pic = pv.Plotter()\n",
    "Pic.add_mesh(m2.toMesh())\n",
    "colortem = ['blue','red']\n",
    "for i in range(len(baseloops)):\n",
    "    loop = baseloops[i]\n",
    "    showline = np.array([loop[0].startP.pos]+[HE.endP.pos for HE in loop])\n",
    "    Pic.add_lines(showline, color=colortem[i], width=4)\n",
    "Pic.show()\n",
    "\n",
    "\n"
   ]
  },
  {
   "cell_type": "code",
   "execution_count": 6,
   "metadata": {},
   "outputs": [],
   "source": [
    "# By cutting the manifold along fundamental bases, we obtain principal domain D_2\n",
    "cuttrace = set()\n",
    "for loop in baseloops:\n",
    "    cuttrace = cuttrace.union(loop)\n"
   ]
  },
  {
   "cell_type": "code",
   "execution_count": 7,
   "metadata": {},
   "outputs": [
    {
     "name": "stdout",
     "output_type": "stream",
     "text": [
      "[array([0., 0., 0., ..., 0., 0., 0.]), array([0., 0., 0., ..., 0., 0., 0.])]\n"
     ]
    }
   ],
   "source": [
    "# construct cohomolpgy bases for the manifold\n",
    "cohomBases = [topologyProcess.toCochain(c2,loop) for loop in baseloops]\n",
    "### cohomBases = topologyProcess.cohomolpogyBases(m2)\n",
    "print(cohomBases)"
   ]
  },
  {
   "cell_type": "code",
   "execution_count": 8,
   "metadata": {},
   "outputs": [
    {
     "name": "stdout",
     "output_type": "stream",
     "text": [
      "[array([ 5.62777706e-04, -1.29237123e-03, -7.62308200e-04, ...,\n",
      "       -2.49125994e-03,  3.35511639e-04, -7.38707529e-05]), array([-1.63268280e-05, -1.90453675e-04,  5.52688065e-05, ...,\n",
      "       -1.93373011e-04,  3.83197221e-05, -1.66875178e-04])]\n"
     ]
    }
   ],
   "source": [
    "# calculate the harmonic bases for the manifold\n",
    "Hbases = [conformalProcess.HodgeDecompose(m2,coloop,onlyH=True) for coloop in cohomBases]\n",
    "###Hbases = conformalProcess.HodgeBase_dim1(m2)\n",
    "print(Hbases)"
   ]
  },
  {
   "cell_type": "code",
   "execution_count": 9,
   "metadata": {},
   "outputs": [
    {
     "data": {
      "application/vnd.jupyter.widget-view+json": {
       "model_id": "7c347aeb7f2e44ee922927e2d8e3df22",
       "version_major": 2,
       "version_minor": 0
      },
      "text/plain": [
       "ViewInteractiveWidget(height=768, layout=Layout(height='auto', width='100%'), width=1024)"
      ]
     },
     "metadata": {},
     "output_type": "display_data"
    }
   ],
   "source": [
    "# integral of harmonic bases on principle domain\n",
    "intH = [topologyProcess.intergalCochain(H,m2,cuttrace) for H in Hbases] \n",
    "# visualize the harmonic bases\n",
    "Pic = pv.Plotter(shape=(int(len(intH)/2),2))\n",
    "\n",
    "black = np.array([11 / 256, 11 / 256, 11 / 256, 1])\n",
    "white = np.array([0.92, 0.92, 0.92, 1])\n",
    "my_colormap = ListedColormap([black,white]*61)\n",
    "\n",
    "for i in range(len(intH)):\n",
    "    Pic.subplot(int(i/2),i%2)\n",
    "    meshtem = mesh.copy()\n",
    "    meshtem.point_data['integral'+str(i)] = intH[i]\n",
    "    Pic.add_mesh(meshtem, scalars='integral'+str(i),style='surface',cmap=my_colormap)\n",
    "\n",
    "Pic.show()"
   ]
  },
  {
   "cell_type": "markdown",
   "metadata": {},
   "source": [
    "# Conformal transport on topological Desk  "
   ]
  },
  {
   "cell_type": "code",
   "execution_count": 10,
   "metadata": {},
   "outputs": [
    {
     "name": "stdout",
     "output_type": "stream",
     "text": [
      "orientated\n"
     ]
    }
   ],
   "source": [
    "# dig a hole on a human face (topological desk)\n",
    "mesh = pv.read('datasource/girl_open.ply')\n",
    "# clean data roughly\n",
    "Points, Faces = clearDatatool.clearMesh_easy(mesh)\n",
    "Ntem = 4000\n",
    "Faces = Faces[:Ntem]+Faces[Ntem+1:]\n",
    "m2 = manifold.Manifold2D(Points,Faces)\n",
    "boundary = m2.boundary()\n",
    "mesh = m2.toMesh()\n"
   ]
  },
  {
   "cell_type": "code",
   "execution_count": 11,
   "metadata": {},
   "outputs": [
    {
     "data": {
      "application/vnd.jupyter.widget-view+json": {
       "model_id": "ec7443d8b8f14f7a9069da395109e294",
       "version_major": 2,
       "version_minor": 0
      },
      "text/plain": [
       "ViewInteractiveWidget(height=768, layout=Layout(height='auto', width='100%'), width=1024)"
      ]
     },
     "metadata": {},
     "output_type": "display_data"
    }
   ],
   "source": [
    "# show the boundaries \n",
    "Pic = pv.Plotter()\n",
    "Pic.add_mesh(mesh)\n",
    "for ele in boundary:\n",
    "    boundline = np.array([sgm.endP.pos for sgm in ele]+[ele[0].endP.pos])\n",
    "    Pic.add_lines(boundline, color='green', width=3)\n",
    "Pic.show()"
   ]
  },
  {
   "cell_type": "code",
   "execution_count": 12,
   "metadata": {},
   "outputs": [],
   "source": [
    "# calculate harmonic functions in tangent and normal directions  \n",
    "f, g = conformalProcess.conformalModel_circleStripe(m2)"
   ]
  },
  {
   "cell_type": "code",
   "execution_count": 13,
   "metadata": {},
   "outputs": [
    {
     "data": {
      "application/vnd.jupyter.widget-view+json": {
       "model_id": "5c0acb9fb32048f6ada2fa6617cc9cdd",
       "version_major": 2,
       "version_minor": 0
      },
      "text/plain": [
       "ViewInteractiveWidget(height=768, layout=Layout(height='auto', width='100%'), width=1024)"
      ]
     },
     "metadata": {},
     "output_type": "display_data"
    }
   ],
   "source": [
    "# show harmonic functions in tangent and normal directions \n",
    "Pic = pv.Plotter(shape=(1,2))\n",
    "\n",
    "Pic.subplot(0,0)\n",
    "meshtem = mesh.copy()\n",
    "meshtem.point_data['tangent'] = 2*np.pi*f\n",
    "Pic.add_mesh(meshtem, scalars='tangent',style='surface',cmap=ListedColormap([black,white]*30))\n",
    "\n",
    "Pic.subplot(0,1) \n",
    "meshtem = mesh.copy()\n",
    "meshtem.point_data['normal'] = g/g.max()\n",
    "Pic.add_mesh(meshtem, scalars='normal',style='surface',cmap=ListedColormap([black,white]*60))\n",
    "\n",
    "Pic.show()"
   ]
  },
  {
   "cell_type": "code",
   "execution_count": 14,
   "metadata": {},
   "outputs": [],
   "source": [
    "# conformal mapping surface onto complex plan\n",
    "complexValue = g/g.max()+2*np.pi*1j*f\n",
    "# conformal translate into a loop stripe on complex plan by Exp function \n",
    "expValue = np.exp(complexValue)"
   ]
  },
  {
   "cell_type": "code",
   "execution_count": null,
   "metadata": {},
   "outputs": [],
   "source": []
  }
 ],
 "metadata": {
  "kernelspec": {
   "display_name": "Python 3.9.12 ('graphics')",
   "language": "python",
   "name": "python3"
  },
  "language_info": {
   "codemirror_mode": {
    "name": "ipython",
    "version": 3
   },
   "file_extension": ".py",
   "mimetype": "text/x-python",
   "name": "python",
   "nbconvert_exporter": "python",
   "pygments_lexer": "ipython3",
   "version": "3.9.12"
  },
  "orig_nbformat": 4,
  "vscode": {
   "interpreter": {
    "hash": "ee1f1544899cceb237d2c797f579dfc2d5472222f234de18d5784e9e810fd039"
   }
  }
 },
 "nbformat": 4,
 "nbformat_minor": 2
}
